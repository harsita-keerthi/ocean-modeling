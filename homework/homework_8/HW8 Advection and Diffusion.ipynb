{
 "cells": [
  {
   "cell_type": "markdown",
   "id": "90d7009b-44b9-401a-a60a-871e1242969f",
   "metadata": {},
   "source": [
    "# Homework 8: Advection and Diffusion\n",
    "\n",
    "#### Objective:\n",
    "In this homework, we will investigate the comparative magnitudes of advection and diffusion of heat in the ocean. For this exercise, we will rely on output from a model that we have compiled and run in class. If you have not already done so, you will need to compile and run the `global_with_exf` verification experiment according to the steps on the handout from Lecture 8-2.\n",
    "\n",
    "#### Import Modules:\n",
    "Begin by importing the modules to read in data, conduct calculations, and make plots."
   ]
  },
  {
   "cell_type": "code",
   "execution_count": 1,
   "id": "52372dd1-06aa-4d5e-a3f0-9a1d14b798a1",
   "metadata": {},
   "outputs": [],
   "source": [
    "import os\n",
    "import numpy as np\n",
    "import matplotlib.pyplot as plt"
   ]
  },
  {
   "cell_type": "markdown",
   "id": "5d946c95-f1ae-4641-89ad-0d1628cbab23",
   "metadata": {},
   "source": [
    "Define a path to your run directory where you will store data for this exercise."
   ]
  },
  {
   "cell_type": "code",
   "execution_count": 2,
   "id": "d198b444-6958-4eac-ab25-35a7d5eb3e50",
   "metadata": {},
   "outputs": [],
   "source": [
    "run_folder = '/Users/harsita/Desktop/sjsu/year 3/spring 25/cs 185c - ocean modeling/MITgcm/verification/global_with_exf/run'"
   ]
  },
  {
   "cell_type": "markdown",
   "id": "32b40c32-cedd-4b17-92e0-4acda3d60d45",
   "metadata": {},
   "source": [
    "## Part 1: The Heat Equation\n",
    "In the space below, write down the equation that describes the evolution of temperature in the ocean. Then, for each term in the equation, write one sentence to describe what the term means qualitatively."
   ]
  },
  {
   "cell_type": "markdown",
   "id": "a9849a1b-7ec1-4692-ae68-01cbb62db2ca",
   "metadata": {},
   "source": [
    "Change this cell to a markdown cell and edit the contents to write the equation. \n",
    "\n",
    "ocean heat equation:\n",
    "\n",
    "$$\n",
    "\\frac{\\partial \\theta}{\\partial t} = - \\vec{u} \\nabla \\theta + k \\frac{\\partial^2\\theta}{\\partial t^2} + \\frac{J_H}{C_p P_w}\n",
    "$$\n",
    " \n",
    "\n",
    "$$\n",
    "\\vec{u}\\nabla\\theta \\text{ is the advection temperature and the rest following is diffusion}\n",
    "$$\n",
    "\n",
    "lagrangian heat equation:\n",
    "\n",
    "$$\n",
    "\\frac{D\\theta}{D t} = k \\frac{\\partial^2\\theta}{\\partial t^2} + \\frac{J_H}{C_p P_w}\n",
    "$$"
   ]
  },
  {
   "cell_type": "markdown",
   "id": "b74b44dc-a3d9-4e51-88a6-ccf2bbf6be1c",
   "metadata": {},
   "source": [
    "Change this cell to a markdown cell and write a sentence describing each term in the equation. \n",
    "$$\n",
    "\\frac{D\\theta}{Dt} \\text{ is material derivative used to track rate of change of temperature after a moving water parcel}\n",
    "$$\n",
    "\n",
    "$$\n",
    "\\text{K is thermal diffuse of sea water}\n",
    "$$\n",
    "\n",
    "$$\n",
    "\\frac{\\partial^2\\theta}{\\partial t^2} \\text{ is the 2nd derivative of temperature}\n",
    "$$\n",
    "\n",
    "\n",
    "$$\n",
    "J_H \\text{ is heat flux which represents heat gain or loss}\n",
    "$$\n",
    "\n",
    "$$\n",
    "C_P \\text{ is specific heat capacity of sea water or how much energy is needed to change tempearture}\n",
    "$$\n",
    "\n",
    "$$\n",
    "P_W \\text{ is density of sea water that accounts for amount of water in heat transfer}\n",
    "$$\n"
   ]
  },
  {
   "cell_type": "markdown",
   "id": "737ec8eb-b5da-46c4-97e8-521107083f25",
   "metadata": {},
   "source": [
    "## Part 2: Considering Temperature\n",
    "In class, we wrote the temperature equation with the symbol $\\Theta$. What does this term signify and why do we use it instead of temperature $T$?"
   ]
  },
  {
   "cell_type": "markdown",
   "id": "fa3a6a10-7c4e-47c5-954a-5bd142888b61",
   "metadata": {},
   "source": [
    "Theta is the potential temperature in celsius."
   ]
  },
  {
   "cell_type": "markdown",
   "id": "2a225d75-8545-4f9b-aec2-c7334862adae",
   "metadata": {},
   "source": [
    "## Part 3: Read in the data\n",
    "This section will leverage the `ADVx_TH`, `ADVy_TH`, `DFxE_TH` and `DFyE_TH` variables generated from the `global_with_exf`model. These files refer to the $x$- and $y$-components of advection and diffusion (vector quantities). The $x$-component is aligned roughly eastward and the $y$-component is aligned roughly northward near the equator. Read in the 4 advection and diffusion fields. The units of these fields are  $^{\\circ}$C$\\cdot$m$^3$/s - a transport of temperature with volume. The quantity can by converted to a heat flux (in units of $W$) by considering specific heat ($C_p$) and the density $\\rho_w$ of seawater. It is not necessary to make this conversion in this homework.\n",
    "\n",
    "In addition to the 4 fields above, also read in the fields `XC` and `YC` grids generated by the model in your run directory:"
   ]
  },
  {
   "cell_type": "code",
   "execution_count": null,
   "id": "575a0c5a-3c45-4ca0-9129-a96996ccca5b",
   "metadata": {},
   "outputs": [],
   "source": [
    "n_rows = # fill in the  \n",
    "n_cols = # model dimensions\n",
    "n_depth_levels = # here\n",
    "\n",
    "# if you ran you model according to the class directions,\n",
    "# you should have these files to read in and no other\n",
    "# changes are required in this cell\n",
    "\n",
    "ADVx_TH_file = os.path.join(run_folder,'diags','ADVx_TH','ADVx_TH.0000000690.data')\n",
    "ADVx_TH = np.fromfile(ADVx_TH_file, '>f4').reshape((n_depth_levels, n_rows, n_cols))\n",
    "\n",
    "ADVy_TH_file = os.path.join(run_folder,'diags','ADVy_TH', 'ADVy_TH.0000000690.data')\n",
    "ADVy_TH = np.fromfile(ADVy_TH_file, '>f4').reshape((n_depth_levels, n_rows, n_cols))\n",
    "\n",
    "DFxE_TH_file = os.path.join(run_folder,'diags','DFxE_TH', 'DFxE_TH.0000000690.data')\n",
    "DFxE_TH = np.fromfile(DFxE_TH_file, '>f4').reshape((n_depth_levels, n_rows, n_cols))\n",
    "\n",
    "DFyE_TH_file = os.path.join(run_folder,'diags','DFyE_TH', 'DFyE_TH.0000000690.data')\n",
    "DFyE_TH = np.fromfile(DFyE_TH_file, '>f4').reshape((n_depth_levels, n_rows, n_cols))\n",
    "\n",
    "XC_file = os.path.join(run_folder,'XC.data')\n",
    "XC = np.fromfile(XC_file, '>f4').reshape((n_rows, n_cols))\n",
    "\n",
    "YC_file = os.path.join(run_folder,'YC.data')\n",
    "YC = np.fromfile(YC_file, '>f4').reshape((n_rows, n_cols))"
   ]
  },
  {
   "cell_type": "markdown",
   "id": "312c4190-d6df-4773-a1c2-b3a727a67f45",
   "metadata": {},
   "source": [
    "Subset the variables to the first depth level ($k=0$):"
   ]
  },
  {
   "cell_type": "code",
   "execution_count": null,
   "id": "ae49bf0a-52a7-4aca-8d30-90160bc5d643",
   "metadata": {},
   "outputs": [],
   "source": [
    "ADVx_TH = np.array(ADVx_TH[0,:,:])\n",
    "ADVy_TH = np.array(ADVy_TH[0,:,:])\n",
    "DFxE_TH = np.array(DFxE_TH[0,:,:])\n",
    "DFyE_TH = np.array(DFyE_TH[0,:,:])"
   ]
  },
  {
   "cell_type": "markdown",
   "id": "af4c6280-acc2-4fbe-9f6d-9d7e00bbb9bd",
   "metadata": {},
   "source": [
    "## Part 4: Plot of advection and diffusion\n",
    "Next, plot the vector components of advection and diffusion in a 2x2 grid of plots. In creating your plot, be sure to do the following:\n",
    "- Use the `vmin` and `vmax` values in the `pcolormesh` plotting command to control the minimum and maximum values of the plot. Each pair of plots ($x$- and $y$- components for advection, $x$- and $y$- components for diffusion) should use the same bounds. You color bounds should fit the data appropriately and the min and max values should match (-1*min = max). You may find the functions `np.min()` and `np.max()` helpful.\n",
    "- Add a colorbar and use a divergent colormap, such as 'seismic' or something similar.\n",
    "- Add labels to your axes and a title on each subplot"
   ]
  },
  {
   "cell_type": "code",
   "execution_count": null,
   "id": "dd9422a2-6b92-4049-9bec-e32ebbb0484c",
   "metadata": {},
   "outputs": [],
   "source": [
    "print(f'advx max: {np.max(ADVx_TH)}, min: {np.min(ADVx_TH)}')\n",
    "print(f'advy max:{np.max(ADVy_TH)}, min: {np.min(ADVy_TH)}')\n",
    "print(f'dfxe max:{np.max(DFxE_TH)}, min: {np.min(DFxE_TH)}')\n",
    "print(f'dfye max:{np.max(DFyE_TH)}, min: {np.min(DFyE_TH)}')"
   ]
  },
  {
   "cell_type": "code",
   "execution_count": null,
   "id": "f0ecebc0-3abe-4fdd-b668-709ebce24f43",
   "metadata": {},
   "outputs": [],
   "source": [
    "# enter code for your plot here\n",
    "fig = plt.figure(figsize=(13, 11))\n",
    "\n",
    "plt.subplot(2,2,1)\n",
    "C=plt.pcolormesh(XC, YC, ADVx_TH, vmin=-99239696, vmax=99239696)\n",
    "plt.colorbar(C, orientation='horizontal',\n",
    "             label='$\\longleftarrow$ westward | eastward $\\longrightarrow$' )\n",
    "plt.title('ADVx_TH')\n",
    "plt.ylabel('lat')\n",
    "plt.xlabel('lon')\n",
    "\n",
    "plt.subplot(2,2,2)\n",
    "C=plt.pcolormesh(XC, YC, ADVy_TH, vmin=-70088048, vmax=70088048)\n",
    "plt.colorbar(C, orientation='vertical',\n",
    "             label='$\\longleftarrow$ southward | northward $\\longrightarrow$' )\n",
    "plt.title('ADVy_TH')\n",
    "plt.ylabel('lat')\n",
    "plt.xlabel('lon')\n",
    "\n",
    "plt.subplot(2,2,3)\n",
    "C=plt.pcolormesh(XC, YC, DFxE_TH, vmin=-472557, vmax=472557)\n",
    "plt.colorbar(C, orientation='horizontal',\n",
    "             label='$\\longleftarrow$ westward | eastward $\\longrightarrow$' )\n",
    "plt.title('DFxE_TH')\n",
    "plt.ylabel('lat')\n",
    "plt.xlabel('lon')\n",
    "\n",
    "plt.subplot(2,2,4)\n",
    "C=plt.pcolormesh(XC, YC, DFyE_TH, vmin=-234457, vmax=234457)\n",
    "plt.colorbar(C, orientation='vertical',\n",
    "             label='$\\longleftarrow$ Southward | Northward $\\longrightarrow$' )\n",
    "plt.title('DFyE_TH')\n",
    "plt.ylabel('lat')\n",
    "plt.xlabel('lon')"
   ]
  },
  {
   "cell_type": "markdown",
   "id": "6e2a0066-0294-4197-b27b-a8f27dbba1c2",
   "metadata": {},
   "source": [
    "## Part 5: Plot Magnitudes\n",
    "To compare the differences advection and diffusion, we first need to compute the magnitude. The magnitude of a vector quantity is given by\n",
    "\n",
    "$$\n",
    "|\\textbf{v}| = \\sqrt{v_x^2 + v_y^2}\n",
    "$$\n",
    "\n",
    "Apply this formula to the fields above to produce fields of 2D advection and diffusion at the surface of the ocean."
   ]
  },
  {
   "cell_type": "code",
   "execution_count": null,
   "id": "df397e87-389a-42c5-8614-80408d69154c",
   "metadata": {},
   "outputs": [],
   "source": [
    "# conduct your calculation here\n",
    "adv_mag = np.sqrt(ADVx_TH**2 + ADVy_TH**2)\n",
    "df_mag = np.sqrt(DFxE_TH**2 + DFyE_TH**2)"
   ]
  },
  {
   "cell_type": "markdown",
   "id": "48c04e3e-fcd7-4684-8115-300c99e02e74",
   "metadata": {},
   "source": [
    "Now, plot the magnitudes of advection and diffusion. Since we are now working with magnitude rather than directional values, you should use a sequential colormap rather than a divergent colormap."
   ]
  },
  {
   "cell_type": "code",
   "execution_count": null,
   "id": "db7ebf74-1543-42dc-94c9-0ac7a6f6faac",
   "metadata": {},
   "outputs": [],
   "source": [
    "# enter code for your plot here\n",
    "plt.figure(figsize=(14,6))\n",
    "\n",
    "plt.subplot(1,2,1)\n",
    "C = plt.pcolormesh(XC, YC, adv_mag)\n",
    "plt.title('advection magnitude')\n",
    "plt.xlabel('lon')\n",
    "plt.ylabel('lat')\n",
    "\n",
    "plt.subplot(1,2,2)\n",
    "C = plt.pcolormesh(XC, YC, df_mag)\n",
    "plt.title('diffusion magnitude')\n",
    "plt.xlabel('lon')\n",
    "plt.ylabel('lat')"
   ]
  },
  {
   "cell_type": "markdown",
   "id": "22b9b40d-a69e-418e-9aea-a0fa22a5b077",
   "metadata": {},
   "source": [
    "What is the mean ratio between advection and diffusion of temperature? Do a quick calculation below to compute the ratio. Be sure not to include points on land where the magnitude of each is 0."
   ]
  },
  {
   "cell_type": "code",
   "execution_count": null,
   "id": "5724dc05-f76d-406c-b8e0-284f09994786",
   "metadata": {},
   "outputs": [],
   "source": [
    "# conduct your calculation here\n",
    "# ratio = |advection| / |diffusion\n",
    "ratio = np.zeros_like(adv_mag)\n",
    "ratio[(adv_mag > 0) & (df_mag > 0)]= adv_mag[(adv_mag > 0) & (df_mag > 0)] / df_mag[(adv_mag > 0) & (df_mag > 0)]\n",
    "np.mean(ratio[(adv_mag > 0) & (df_mag > 0)]) # advection dominates diffusion"
   ]
  },
  {
   "cell_type": "markdown",
   "id": "9820206e-d558-4a99-ab98-07036f936b8a",
   "metadata": {},
   "source": [
    "## Part 6: Advection vs Diffusion\n",
    "In the calculation above, we see that one process is responsible for transporting much more heat than the other. Which process is larger?\n",
    "\n",
    "Suppose you would like to simplify the ocean model to be less computationally expensive. One way that you could achieve this is by removing processes from the model which have less of an effect on the model behavior than others. Based on the above plots and calculations, which process would you remove? Specifically, in the equation written in part 1, which term would you cancel from the equation?"
   ]
  },
  {
   "cell_type": "code",
   "execution_count": null,
   "id": "f2866f6f-274e-437f-a6e4-b6c12617ebe9",
   "metadata": {},
   "outputs": [],
   "source": [
    "# Change this cell to a markdown cell and \n",
    "# enter your answer here. "
   ]
  }
 ],
 "metadata": {
  "kernelspec": {
   "display_name": "cs185c",
   "language": "python",
   "name": "cs185c"
  },
  "language_info": {
   "codemirror_mode": {
    "name": "ipython",
    "version": 3
   },
   "file_extension": ".py",
   "mimetype": "text/x-python",
   "name": "python",
   "nbconvert_exporter": "python",
   "pygments_lexer": "ipython3",
   "version": "3.12.8"
  }
 },
 "nbformat": 4,
 "nbformat_minor": 5
}
